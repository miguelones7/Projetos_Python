{
 "cells": [
  {
   "cell_type": "markdown",
   "metadata": {},
   "source": [
    "# Python Insights - Analisando Dados com Python\n",
    "\n",
    "### Case - Cancelamento de Clientes\n",
    "\n",
    "Você foi contratado por uma empresa com mais de 800 mil clientes para um projeto de Dados. Recentemente a empresa percebeu que da sua base total de clientes, a maioria são clientes inativos, ou seja, que já cancelaram o serviço.\n",
    "\n",
    "Precisando melhorar seus resultados ela quer conseguir entender os principais motivos desses cancelamentos e quais as ações mais eficientes para reduzir esse número.\n",
    "\n",
    "Base de dados e arquivos: https://drive.google.com/drive/folders/1uDesZePdkhiraJmiyeZ-w5tfc8XsNYFZ?usp=drive_link"
   ]
  },
  {
   "cell_type": "code",
   "execution_count": null,
   "metadata": {},
   "outputs": [],
   "source": [
    "#!pip install pandas openpyxl numpy nbformat plotly ipykernel\n",
    "# pandas -> base de dados\n",
    "# plotly -> criar gráficos dinâmicos\n",
    "\n",
    "### Passo 1: Importar a base de dados ###\n",
    "import pandas as pd\n",
    "\n",
    "tabela = pd.read_csv(\"cancelamentos.csv\")\n",
    "\n",
    "\n",
    "### Passo 2: Visualizar a base de dados ###\n",
    "## entender as informações ##\n",
    "## encontrar problemas ##\n",
    "\n",
    "# informações inúteis\n",
    "tabela = tabela.drop(columns = \"CustomerID\") #tirando ID que não traz nenhuma informação relevante | linha = index\n",
    "\n",
    "display(tabela) # display = print, porém mais visual (apenas .ipynb)\n",
    "\n",
    "\n"
   ]
  },
  {
   "cell_type": "code",
   "execution_count": null,
   "metadata": {},
   "outputs": [],
   "source": [
    "\n",
    "\n",
    "### Passo 3: resolver problemas da base de dados ###\n",
    "display(tabela.info()) # informações sobre\n",
    "\n",
    "# informações no formato errado\n",
    "\n",
    "# informações vazias  | \n",
    "    #tabela = tabela.fillna() preenche vazios com algo / ffill() preenche com valor anterior\n",
    "tabela = tabela.dropna() #exclui linhas que tem alguma info vazia\n",
    "display(tabela.info())\n",
    "\n"
   ]
  },
  {
   "cell_type": "code",
   "execution_count": null,
   "metadata": {},
   "outputs": [],
   "source": [
    "### Passo 4: Análise Inicial ###\n",
    "## quantos clientes cancelaram | qual o % de clientes cancelaram ##\n",
    "\n",
    "# contar na coluna 'cancelou' os valores\n",
    "#coluna de tabela =[]\n",
    "display(tabela[\"cancelou\"].value_counts())\n",
    "\n",
    "#em percentual | normalizar -> proporção (0 a 1 geralmente)\n",
    "display(tabela[\"cancelou\"].value_counts(normalize = True))\n",
    "display(tabela[\"cancelou\"].value_counts(normalize = True).map(\"{:.2%}\".format))\n"
   ]
  },
  {
   "cell_type": "code",
   "execution_count": null,
   "metadata": {},
   "outputs": [],
   "source": [
    "### Passo 5: Análise Detalhada ###\n",
    "## analisar a causa dos cancelamentos dos clientes ##\n",
    "\n",
    "# entender como cada coluna da base de dados impacta no cancelamento do cliente\n",
    "# Gráficos!\n",
    "import plotly.express as px\n",
    "\n",
    "for coluna in tabela.columns:\n",
    "    #criar gráfico\n",
    "    grafico = px.histogram(tabela, x=coluna, color=\"cancelou\", text_auto=True, color_discrete_map={1.0:\"red\", 0.0:\"green\"})\n",
    "    #exibir gráfico\n",
    "    grafico.show()"
   ]
  },
  {
   "cell_type": "code",
   "execution_count": null,
   "metadata": {},
   "outputs": [],
   "source": [
    "# Clientes que ligaram mais de 4x para o callcenter cancelam\n",
    "    # criar alerta para quando o cliente ligar a 3ª vez para o callcenter, subir o nível do atendimento\n",
    "\n",
    "# Todos os clientes do contrato Mensal cancelaram\n",
    "    # criar estratégias para facilitar a migração do contrato Mensal para outras modalidades\n",
    "\n",
    "# Todos os clientes que atrasaram o pagamento, por mais de 20 dias, cancelaram\n",
    "    # alerta para o time de cobrança quando o cliente bater 10 dias de atraso\n",
    "\n",
    "\n",
    "### Se eu resolver os 3 problemas acima, como fica a taxa de cancelamento? ###\n",
    "\n",
    "\n",
    "## Problema 1: Callcenter | olhar a base excluindo o problema do callcenter\n",
    "tabela = tabela[tabela[\"ligacoes_callcenter\"] <=4] #coluna ligacoes_callcenter menor ou igual a 4\n",
    "\n",
    "## Problema 2: Dias de Atraso no Pagamento | olhar a base excluindo o problema do atraso no pagamento\n",
    "tabela = tabela[tabela[\"dias_atraso\"] <=20] #coluna dias_atraso com menos de 20 dias\n",
    "\n",
    "## Problema 3: Duração do Contrato | olhar a base excluindo contratos mensais (Monthly)\n",
    "tabela = tabela[tabela[\"duracao_contrato\"] != \"Monthly\"] # \n",
    "\n",
    "\n",
    "display(tabela[\"cancelou\"].value_counts(normalize = True))"
   ]
  }
 ],
 "metadata": {
  "kernelspec": {
   "display_name": "Python 3",
   "language": "python",
   "name": "python3"
  },
  "language_info": {
   "codemirror_mode": {
    "name": "ipython",
    "version": 3
   },
   "file_extension": ".py",
   "mimetype": "text/x-python",
   "name": "python",
   "nbconvert_exporter": "python",
   "pygments_lexer": "ipython3",
   "version": "3.13.6"
  },
  "orig_nbformat": 4
 },
 "nbformat": 4,
 "nbformat_minor": 2
}
